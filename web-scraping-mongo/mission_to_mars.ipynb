{
 "cells": [
  {
   "cell_type": "markdown",
   "metadata": {},
   "source": [
    "# Web scraping to get data for the Mars Mission."
   ]
  },
  {
   "cell_type": "code",
   "execution_count": 1,
   "metadata": {},
   "outputs": [],
   "source": [
    "# Dependencies\n",
    "from bs4 import BeautifulSoup\n",
    "from splinter import Browser\n",
    "import requests\n",
    "import pymongo\n",
    "import pandas as pd \n",
    "import time\n",
    "import datetime\n",
    "\n",
    "#define exec path for chromedriver.exe.  Scrape information from https://mars.nasa.gov/news/\n",
    "\n",
    "#for windows: \n",
    "#executable_path = {'executable_path': 'C:\\ChromeSafe\\chromedriver.exe'}\n",
    "# browser = Browser('chrome', **executable_path, headless=False)\n",
    "\n",
    "# # Initialize PyMongo to work with MongoDBs\n",
    "# conn = 'mongodb://localhost:27017'\n",
    "# client = pymongo.MongoClient(conn)\n",
    "\n",
    "\n"
   ]
  },
  {
   "cell_type": "code",
   "execution_count": null,
   "metadata": {},
   "outputs": [],
   "source": []
  },
  {
   "cell_type": "code",
   "execution_count": 2,
   "metadata": {},
   "outputs": [],
   "source": [
    "#for mac:\n",
    "executable_path = {'executable_path': '/usr/local/bin/chromedriver'}\n",
    "browser = Browser('chrome', **executable_path, headless=False)"
   ]
  },
  {
   "cell_type": "code",
   "execution_count": 3,
   "metadata": {},
   "outputs": [
    {
     "name": "stdout",
     "output_type": "stream",
     "text": [
      "/usr/local/bin/chromedriver\r\n"
     ]
    }
   ],
   "source": [
    "# https://splinter.readthedocs.io/en/latest/drivers/chrome.html\n",
    "!which chromedriver"
   ]
  },
  {
   "cell_type": "code",
   "execution_count": null,
   "metadata": {},
   "outputs": [],
   "source": []
  },
  {
   "cell_type": "code",
   "execution_count": 4,
   "metadata": {},
   "outputs": [],
   "source": [
    "#Create empty dictionaries to store all the mars information.\n",
    "mars_info_dict=dict()"
   ]
  },
  {
   "cell_type": "markdown",
   "metadata": {},
   "source": [
    "# Part  1.\t### NASA Mars News"
   ]
  },
  {
   "cell_type": "code",
   "execution_count": 5,
   "metadata": {},
   "outputs": [],
   "source": [
    "\n",
    "#Define url and browse the site using chrome. \n",
    "url = 'https://mars.nasa.gov/news/'\n",
    "browser.visit(url)\n",
    "html_1 = browser.html\n",
    "\n"
   ]
  },
  {
   "cell_type": "code",
   "execution_count": 6,
   "metadata": {},
   "outputs": [],
   "source": [
    "#create soup object and use beautiful soup to parse html. \n",
    "soup1 = BeautifulSoup(html_1, 'html.parser')"
   ]
  },
  {
   "cell_type": "code",
   "execution_count": 7,
   "metadata": {},
   "outputs": [],
   "source": [
    "#print(html_1)"
   ]
  },
  {
   "cell_type": "code",
   "execution_count": 8,
   "metadata": {},
   "outputs": [],
   "source": [
    "#print(soup1.prettify())"
   ]
  },
  {
   "cell_type": "code",
   "execution_count": 9,
   "metadata": {},
   "outputs": [],
   "source": [
    "## Mars space images \n",
    "#* Visit the url for JPL Featured Space Image [here](https://www.jpl.nasa.gov/spaceimages/?search=&category=Mars).\n",
    "#* Use splinter to navigate the site and find the image url for the current Featured Mars Image and assign the url string to a \n",
    "#* variable called `featured_image_url`. Make sure to find the image url to the full size `.jpg` image.\n",
    "#* Make sure to save a complete url string for this image.\n",
    "url2 = 'https://www.jpl.nasa.gov/spaceimages/?search=&category=Mars'\n",
    "browser.visit(url2)\n",
    "full_image = browser.find_by_id('full_image')\n",
    "full_image.click()\n"
   ]
  },
  {
   "cell_type": "code",
   "execution_count": 10,
   "metadata": {},
   "outputs": [
    {
     "name": "stdout",
     "output_type": "stream",
     "text": [
      "The news title is For InSight, Dust Cleanings Will Yield New Science\n",
      "The news body is Wind can be crucial to clearing dust from spacecraft solar panels on Mars. With InSight's meteorological sensors, scientists get their first measurements of wind and dust interacting \"live\" on the Martian surface.  \n"
     ]
    }
   ],
   "source": [
    "# Scrape information from html for https://mars.nasa.gov/news/. class is \"content_title' for news title.\n",
    "try :\n",
    "    result_title = soup1.find('ul', class_=\"item_list\").find('li',class_=\"slide\").find('div',class_=\"content_title\").text\n",
    "\n",
    "    #Class is class=\"article_teaser_body\" for para text. \n",
    "    news_body = soup1.find('ul',class_=\"item_list\").find('li',class_=\"slide\").find('div',class_=\"article_teaser_body\").text\n",
    "\n",
    "    print(\"The news title is \" + result_title)\n",
    "    #print(f\"The news_title is: {news_title}\") \n",
    "\n",
    "    print(\"The news body is \" + news_body)\n",
    "    #print(f\"The News Body is: {news_body}\") \n",
    "\n",
    "except  AttributeError as Atterror:\n",
    "    print(Atterror)\n",
    "\n"
   ]
  },
  {
   "cell_type": "code",
   "execution_count": null,
   "metadata": {},
   "outputs": [],
   "source": []
  },
  {
   "cell_type": "code",
   "execution_count": 11,
   "metadata": {},
   "outputs": [
    {
     "name": "stdout",
     "output_type": "stream",
     "text": [
      "{'Mars_news_body': 'Wind can be crucial to clearing dust from spacecraft solar '\n",
      "                   \"panels on Mars. With InSight's meteorological sensors, \"\n",
      "                   'scientists get their first measurements of wind and dust '\n",
      "                   'interacting \"live\" on the Martian surface.  ',\n",
      " 'Mars_news_title': 'For InSight, Dust Cleanings Will Yield New Science'}\n"
     ]
    }
   ],
   "source": [
    "#Append results from part 1 into the final mars_info dictionary.\n",
    "from pprint import pprint\n",
    "mars_info_dict[\"Mars_news_title\"] = result_title\n",
    "mars_info_dict[\"Mars_news_body\"] = news_body\n",
    "pprint(mars_info_dict)"
   ]
  },
  {
   "cell_type": "markdown",
   "metadata": {},
   "source": [
    "# Part 2.\t### JPL Mars Space Images - Featured Image"
   ]
  },
  {
   "cell_type": "code",
   "execution_count": 12,
   "metadata": {},
   "outputs": [],
   "source": [
    "#click on the link for \"more info\"\n",
    "#time.sleep(15)\n",
    "link_more_info = browser.find_link_by_partial_text('more info')\n",
    "link_more_info.click()\n",
    "\n",
    "\n"
   ]
  },
  {
   "cell_type": "code",
   "execution_count": 13,
   "metadata": {},
   "outputs": [
    {
     "name": "stdout",
     "output_type": "stream",
     "text": [
      "https://www.jpl.nasa.gov/spaceimages/images/largesize/PIA18840_hires.jpg\n"
     ]
    }
   ],
   "source": [
    "#Retrieve  the  html from the page. Parse html using bs4 and find the path for the  full size image.\n",
    "fullimg_html2 = browser.html\n",
    "soup2 = BeautifulSoup(fullimg_html2, \"html.parser\")\n",
    "fullimg_href = soup2.find('figure', class_='lede').a['href']\n",
    "featured_image_url = \"https://www.jpl.nasa.gov\" + fullimg_href\n",
    "\n",
    "print(featured_image_url)"
   ]
  },
  {
   "cell_type": "code",
   "execution_count": 14,
   "metadata": {},
   "outputs": [],
   "source": [
    "#Append featured image url to the Mars dictionary.\n",
    "mars_info_dict[\"Mars_featured_image_url\"] = featured_image_url"
   ]
  },
  {
   "cell_type": "code",
   "execution_count": 15,
   "metadata": {},
   "outputs": [
    {
     "name": "stdout",
     "output_type": "stream",
     "text": [
      "{'Mars_featured_image_url': 'https://www.jpl.nasa.gov/spaceimages/images/largesize/PIA18840_hires.jpg',\n",
      " 'Mars_news_body': 'Wind can be crucial to clearing dust from spacecraft solar '\n",
      "                   \"panels on Mars. With InSight's meteorological sensors, \"\n",
      "                   'scientists get their first measurements of wind and dust '\n",
      "                   'interacting \"live\" on the Martian surface.  ',\n",
      " 'Mars_news_title': 'For InSight, Dust Cleanings Will Yield New Science'}\n"
     ]
    }
   ],
   "source": [
    "pprint(mars_info_dict)"
   ]
  },
  {
   "cell_type": "markdown",
   "metadata": {},
   "source": [
    "# Part 3 . ### Mars Weather tweet"
   ]
  },
  {
   "cell_type": "code",
   "execution_count": 16,
   "metadata": {},
   "outputs": [],
   "source": [
    "##* Visit the Mars Weather twitter account [here](https://twitter.com/marswxreport?lang=en) and scrape the latest Mars weather \n",
    "##  tweet from the page. Save the tweet text for the weather report as a variable called `mars_weather`.\n",
    "url3 = 'https://twitter.com/marswxreport?lang=en'\n",
    "browser.visit(url3)\n",
    "html3 = browser.html\n",
    "soup3 = BeautifulSoup(html3, 'html.parser')\n"
   ]
  },
  {
   "cell_type": "code",
   "execution_count": 17,
   "metadata": {},
   "outputs": [
    {
     "data": {
      "text/plain": [
       "'InSight sol 156 (2019-05-05) low -99.2ºC (-146.6ºF) high -18.1ºC (-0.6ºF)\\nwinds from the SW at 4.7 m/s (10.5 mph) gusting to 13.8 m/s (30.8 mph)\\npressure at 7.40 hPapic.twitter.com/FlGDeYg8hi'"
      ]
     },
     "execution_count": 17,
     "metadata": {},
     "output_type": "execute_result"
    }
   ],
   "source": [
    "#print(soup.prettify())\n",
    "#Save the tweet text for the weather report as a variable called `mars_weather`.\n",
    "mars_weather = soup3.find('p', class_=\"TweetTextSize TweetTextSize--normal js-tweet-text tweet-text\").text\n",
    "mars_weather"
   ]
  },
  {
   "cell_type": "code",
   "execution_count": 18,
   "metadata": {},
   "outputs": [],
   "source": [
    "#Add weather tweet to the mars_info dict.\n",
    "mars_info_dict[\"Mars_tweet_weather\"] = mars_weather"
   ]
  },
  {
   "cell_type": "code",
   "execution_count": 19,
   "metadata": {},
   "outputs": [
    {
     "name": "stdout",
     "output_type": "stream",
     "text": [
      "{'Mars_featured_image_url': 'https://www.jpl.nasa.gov/spaceimages/images/largesize/PIA18840_hires.jpg',\n",
      " 'Mars_news_body': 'Wind can be crucial to clearing dust from spacecraft solar '\n",
      "                   \"panels on Mars. With InSight's meteorological sensors, \"\n",
      "                   'scientists get their first measurements of wind and dust '\n",
      "                   'interacting \"live\" on the Martian surface.  ',\n",
      " 'Mars_news_title': 'For InSight, Dust Cleanings Will Yield New Science',\n",
      " 'Mars_tweet_weather': 'InSight sol 156 (2019-05-05) low -99.2ºC (-146.6ºF) '\n",
      "                       'high -18.1ºC (-0.6ºF)\\n'\n",
      "                       'winds from the SW at 4.7 m/s (10.5 mph) gusting to '\n",
      "                       '13.8 m/s (30.8 mph)\\n'\n",
      "                       'pressure at 7.40 hPapic.twitter.com/FlGDeYg8hi'}\n"
     ]
    }
   ],
   "source": [
    "pprint(mars_info_dict)"
   ]
  },
  {
   "cell_type": "markdown",
   "metadata": {},
   "source": [
    "# Part 4.\t### Mars Facts"
   ]
  },
  {
   "cell_type": "code",
   "execution_count": 20,
   "metadata": {},
   "outputs": [],
   "source": [
    "# Visit the Mars Facts webpage [here](http://space-facts.com/mars/) \n",
    "# and use Pandas to scrape the table containing facts \n",
    "# about the planet including Diameter, Mass, etc.\n",
    "# Use Pandas to convert the data to a HTML table string\n",
    "url4 = \"http://space-facts.com/mars/\"\n",
    "df_marsfacts_all = pd.read_html(url4)\n",
    "df_marsfacts = df_marsfacts_all[0]\n",
    "#df_marsfacts"
   ]
  },
  {
   "cell_type": "code",
   "execution_count": 21,
   "metadata": {},
   "outputs": [],
   "source": [
    "# Provide appropriate column names for the dataframe. \n",
    "df_marsfacts.columns = ['Mars_Facts', 'Values']\n",
    "\n",
    "#convert to html\n",
    "df_marsfacts.to_html(\"mars_facts.html\", index=False)\n"
   ]
  },
  {
   "cell_type": "code",
   "execution_count": 22,
   "metadata": {},
   "outputs": [],
   "source": [
    "#set index for better retrieval. \n",
    "df_marsfacts.set_index(\"Mars_Facts\")\n",
    "#Add another html version of the Mars facts tables.\n",
    "mars_facts_html = df_marsfacts.to_html(classes=\"mars_facts table table-striped\")\n",
    "mars_info_dict[\"Mars_facts_table\"] = mars_facts_html"
   ]
  },
  {
   "cell_type": "code",
   "execution_count": 23,
   "metadata": {},
   "outputs": [
    {
     "name": "stdout",
     "output_type": "stream",
     "text": [
      "{'Mars_facts_table': '<table border=\"1\" class=\"dataframe mars_facts table '\n",
      "                     'table-striped\">\\n'\n",
      "                     '  <thead>\\n'\n",
      "                     '    <tr style=\"text-align: right;\">\\n'\n",
      "                     '      <th></th>\\n'\n",
      "                     '      <th>Mars_Facts</th>\\n'\n",
      "                     '      <th>Values</th>\\n'\n",
      "                     '    </tr>\\n'\n",
      "                     '  </thead>\\n'\n",
      "                     '  <tbody>\\n'\n",
      "                     '    <tr>\\n'\n",
      "                     '      <th>0</th>\\n'\n",
      "                     '      <td>Equatorial Diameter:</td>\\n'\n",
      "                     '      <td>6,792 km</td>\\n'\n",
      "                     '    </tr>\\n'\n",
      "                     '    <tr>\\n'\n",
      "                     '      <th>1</th>\\n'\n",
      "                     '      <td>Polar Diameter:</td>\\n'\n",
      "                     '      <td>6,752 km</td>\\n'\n",
      "                     '    </tr>\\n'\n",
      "                     '    <tr>\\n'\n",
      "                     '      <th>2</th>\\n'\n",
      "                     '      <td>Mass:</td>\\n'\n",
      "                     '      <td>6.42 x 10^23 kg (10.7% Earth)</td>\\n'\n",
      "                     '    </tr>\\n'\n",
      "                     '    <tr>\\n'\n",
      "                     '      <th>3</th>\\n'\n",
      "                     '      <td>Moons:</td>\\n'\n",
      "                     '      <td>2 (Phobos &amp; Deimos)</td>\\n'\n",
      "                     '    </tr>\\n'\n",
      "                     '    <tr>\\n'\n",
      "                     '      <th>4</th>\\n'\n",
      "                     '      <td>Orbit Distance:</td>\\n'\n",
      "                     '      <td>227,943,824 km (1.52 AU)</td>\\n'\n",
      "                     '    </tr>\\n'\n",
      "                     '    <tr>\\n'\n",
      "                     '      <th>5</th>\\n'\n",
      "                     '      <td>Orbit Period:</td>\\n'\n",
      "                     '      <td>687 days (1.9 years)</td>\\n'\n",
      "                     '    </tr>\\n'\n",
      "                     '    <tr>\\n'\n",
      "                     '      <th>6</th>\\n'\n",
      "                     '      <td>Surface Temperature:</td>\\n'\n",
      "                     '      <td>-153 to 20 °C</td>\\n'\n",
      "                     '    </tr>\\n'\n",
      "                     '    <tr>\\n'\n",
      "                     '      <th>7</th>\\n'\n",
      "                     '      <td>First Record:</td>\\n'\n",
      "                     '      <td>2nd millennium BC</td>\\n'\n",
      "                     '    </tr>\\n'\n",
      "                     '    <tr>\\n'\n",
      "                     '      <th>8</th>\\n'\n",
      "                     '      <td>Recorded By:</td>\\n'\n",
      "                     '      <td>Egyptian astronomers</td>\\n'\n",
      "                     '    </tr>\\n'\n",
      "                     '  </tbody>\\n'\n",
      "                     '</table>',\n",
      " 'Mars_featured_image_url': 'https://www.jpl.nasa.gov/spaceimages/images/largesize/PIA18840_hires.jpg',\n",
      " 'Mars_news_body': 'Wind can be crucial to clearing dust from spacecraft solar '\n",
      "                   \"panels on Mars. With InSight's meteorological sensors, \"\n",
      "                   'scientists get their first measurements of wind and dust '\n",
      "                   'interacting \"live\" on the Martian surface.  ',\n",
      " 'Mars_news_title': 'For InSight, Dust Cleanings Will Yield New Science',\n",
      " 'Mars_tweet_weather': 'InSight sol 156 (2019-05-05) low -99.2ºC (-146.6ºF) '\n",
      "                       'high -18.1ºC (-0.6ºF)\\n'\n",
      "                       'winds from the SW at 4.7 m/s (10.5 mph) gusting to '\n",
      "                       '13.8 m/s (30.8 mph)\\n'\n",
      "                       'pressure at 7.40 hPapic.twitter.com/FlGDeYg8hi'}\n"
     ]
    }
   ],
   "source": [
    "pprint(mars_info_dict)"
   ]
  },
  {
   "cell_type": "markdown",
   "metadata": {},
   "source": [
    "# Part 5.\t### Mars Hemispheres\n"
   ]
  },
  {
   "cell_type": "code",
   "execution_count": 24,
   "metadata": {},
   "outputs": [],
   "source": [
    "# Visit the USGS Astrogeology site [here](https://astrogeology.usgs.gov/search/results?q=hemisphere+enhanced&k1=target&v1=Mars)\n",
    "# to obtain high resolution images for each of Mar's hemispheres.\n",
    "# You will need to click each of the links to the hemispheres in order to find the image url to the full resolution image.\n",
    "# Save both the image url string for the full resolution hemisphere image, and the Hemisphere title containing the \n",
    "# hemisphere name. \n",
    "# Use a Python dictionary to store the data using the keys `img_url` and `title`. append the dictionary with the image url \n",
    "# string and the hemisphere title to a list. This list will contain one dictionary for each hemisphere.\n",
    "# use splinter and soup to retrieve html and convert to soup object. \n",
    "url5 =  \"https://astrogeology.usgs.gov/search/results?q=hemisphere+enhanced&k1=target&v1=Mars/\"\n",
    "browser.visit(url5)\n",
    "#time.sleep(10)\n",
    "html5 = browser.html\n",
    "soup5 = BeautifulSoup(html5, \"html.parser\")"
   ]
  },
  {
   "cell_type": "code",
   "execution_count": 25,
   "metadata": {},
   "outputs": [],
   "source": [
    "#parse soup object for images of the 4 hemispheres .\n",
    "class_collap_results = soup5.find('div', class_=\"collapsible results\")\n",
    "hemis_items = class_collap_results.find_all('div',class_='item')\n"
   ]
  },
  {
   "cell_type": "code",
   "execution_count": null,
   "metadata": {},
   "outputs": [],
   "source": [
    "#hemis_items"
   ]
  },
  {
   "cell_type": "code",
   "execution_count": 26,
   "metadata": {},
   "outputs": [
    {
     "name": "stdout",
     "output_type": "stream",
     "text": [
      "h_img_urlhttp://astropedia.astrogeology.usgs.gov/download/Mars/Viking/cerberus_enhanced.tif/full.jpg\n",
      "h_img_urlhttp://astropedia.astrogeology.usgs.gov/download/Mars/Viking/schiaparelli_enhanced.tif/full.jpg\n",
      "h_img_urlhttp://astropedia.astrogeology.usgs.gov/download/Mars/Viking/syrtis_major_enhanced.tif/full.jpg\n",
      "h_img_urlhttp://astropedia.astrogeology.usgs.gov/download/Mars/Viking/valles_marineris_enhanced.tif/full.jpg\n",
      "[{'title': 'Cerberus Hemisphere Enhanced', 'img_url': 'http://astropedia.astrogeology.usgs.gov/download/Mars/Viking/cerberus_enhanced.tif/full.jpg'}, {'title': 'Schiaparelli Hemisphere Enhanced', 'img_url': 'http://astropedia.astrogeology.usgs.gov/download/Mars/Viking/schiaparelli_enhanced.tif/full.jpg'}, {'title': 'Syrtis Major Hemisphere Enhanced', 'img_url': 'http://astropedia.astrogeology.usgs.gov/download/Mars/Viking/syrtis_major_enhanced.tif/full.jpg'}, {'title': 'Valles Marineris Hemisphere Enhanced', 'img_url': 'http://astropedia.astrogeology.usgs.gov/download/Mars/Viking/valles_marineris_enhanced.tif/full.jpg'}]\n",
      "['Cerberus Hemisphere Enhanced', 'Schiaparelli Hemisphere Enhanced', 'Syrtis Major Hemisphere Enhanced', 'Valles Marineris Hemisphere Enhanced']\n",
      "['http://astropedia.astrogeology.usgs.gov/download/Mars/Viking/cerberus_enhanced.tif/full.jpg', 'http://astropedia.astrogeology.usgs.gov/download/Mars/Viking/schiaparelli_enhanced.tif/full.jpg', 'http://astropedia.astrogeology.usgs.gov/download/Mars/Viking/syrtis_major_enhanced.tif/full.jpg', 'http://astropedia.astrogeology.usgs.gov/download/Mars/Viking/valles_marineris_enhanced.tif/full.jpg']\n"
     ]
    }
   ],
   "source": [
    "#loop thru to find tile and the image urls to append to lists. \n",
    "hemis_img_urls_list=list()\n",
    "img_urls_list = list()\n",
    "title_list = list()\n",
    "for h in hemis_items:\n",
    "    #save title\n",
    "    h_title = h.h3.text\n",
    "    title_list.append(h_title)\n",
    "    \n",
    "    # find the href link.\n",
    "    h_href  = \"https://astrogeology.usgs.gov\" + h.find('a',class_='itemLink product-item')['href']\n",
    "    \n",
    "    #print(h_title,h_href)\n",
    "    \n",
    "    #browse the link from each page\n",
    "    browser.visit(h_href)\n",
    "    time.sleep(5)\n",
    "    #Retrieve the  image links and store in a list. \n",
    "    html5   = browser.html\n",
    "    soup_img = BeautifulSoup(html5, 'html.parser')\n",
    "    h_img_url = soup_img.find('div', class_='downloads').find('li').a['href']\n",
    "    print(\"h_img_url\" + h_img_url)\n",
    "    img_urls_list.append(h_img_url)\n",
    "    \n",
    "    # create a dictionary with  each image and title and append to a list. \n",
    "    hemispheres_dict = dict()\n",
    "    hemispheres_dict['title'] = h_title\n",
    "    hemispheres_dict['img_url'] = h_img_url\n",
    "    \n",
    "    hemis_img_urls_list.append(hemispheres_dict)\n",
    "    \n",
    "print(hemis_img_urls_list)\n",
    "print(title_list)\n",
    "print(img_urls_list)\n"
   ]
  },
  {
   "cell_type": "code",
   "execution_count": 27,
   "metadata": {},
   "outputs": [],
   "source": [
    "#print(len(hemis_img_urls_list))\n",
    "#Add hemispheres list  to the mars_info dictionary.\n",
    "mars_info_dict[\"Hemisphere_image_urls\"] = hemis_img_urls_list"
   ]
  },
  {
   "cell_type": "code",
   "execution_count": 28,
   "metadata": {},
   "outputs": [
    {
     "name": "stdout",
     "output_type": "stream",
     "text": [
      "{'Hemisphere_image_urls': [{'img_url': 'http://astropedia.astrogeology.usgs.gov/download/Mars/Viking/cerberus_enhanced.tif/full.jpg',\n",
      "                            'title': 'Cerberus Hemisphere Enhanced'},\n",
      "                           {'img_url': 'http://astropedia.astrogeology.usgs.gov/download/Mars/Viking/schiaparelli_enhanced.tif/full.jpg',\n",
      "                            'title': 'Schiaparelli Hemisphere Enhanced'},\n",
      "                           {'img_url': 'http://astropedia.astrogeology.usgs.gov/download/Mars/Viking/syrtis_major_enhanced.tif/full.jpg',\n",
      "                            'title': 'Syrtis Major Hemisphere Enhanced'},\n",
      "                           {'img_url': 'http://astropedia.astrogeology.usgs.gov/download/Mars/Viking/valles_marineris_enhanced.tif/full.jpg',\n",
      "                            'title': 'Valles Marineris Hemisphere Enhanced'}],\n",
      " 'Mars_facts_table': '<table border=\"1\" class=\"dataframe mars_facts table '\n",
      "                     'table-striped\">\\n'\n",
      "                     '  <thead>\\n'\n",
      "                     '    <tr style=\"text-align: right;\">\\n'\n",
      "                     '      <th></th>\\n'\n",
      "                     '      <th>Mars_Facts</th>\\n'\n",
      "                     '      <th>Values</th>\\n'\n",
      "                     '    </tr>\\n'\n",
      "                     '  </thead>\\n'\n",
      "                     '  <tbody>\\n'\n",
      "                     '    <tr>\\n'\n",
      "                     '      <th>0</th>\\n'\n",
      "                     '      <td>Equatorial Diameter:</td>\\n'\n",
      "                     '      <td>6,792 km</td>\\n'\n",
      "                     '    </tr>\\n'\n",
      "                     '    <tr>\\n'\n",
      "                     '      <th>1</th>\\n'\n",
      "                     '      <td>Polar Diameter:</td>\\n'\n",
      "                     '      <td>6,752 km</td>\\n'\n",
      "                     '    </tr>\\n'\n",
      "                     '    <tr>\\n'\n",
      "                     '      <th>2</th>\\n'\n",
      "                     '      <td>Mass:</td>\\n'\n",
      "                     '      <td>6.42 x 10^23 kg (10.7% Earth)</td>\\n'\n",
      "                     '    </tr>\\n'\n",
      "                     '    <tr>\\n'\n",
      "                     '      <th>3</th>\\n'\n",
      "                     '      <td>Moons:</td>\\n'\n",
      "                     '      <td>2 (Phobos &amp; Deimos)</td>\\n'\n",
      "                     '    </tr>\\n'\n",
      "                     '    <tr>\\n'\n",
      "                     '      <th>4</th>\\n'\n",
      "                     '      <td>Orbit Distance:</td>\\n'\n",
      "                     '      <td>227,943,824 km (1.52 AU)</td>\\n'\n",
      "                     '    </tr>\\n'\n",
      "                     '    <tr>\\n'\n",
      "                     '      <th>5</th>\\n'\n",
      "                     '      <td>Orbit Period:</td>\\n'\n",
      "                     '      <td>687 days (1.9 years)</td>\\n'\n",
      "                     '    </tr>\\n'\n",
      "                     '    <tr>\\n'\n",
      "                     '      <th>6</th>\\n'\n",
      "                     '      <td>Surface Temperature:</td>\\n'\n",
      "                     '      <td>-153 to 20 °C</td>\\n'\n",
      "                     '    </tr>\\n'\n",
      "                     '    <tr>\\n'\n",
      "                     '      <th>7</th>\\n'\n",
      "                     '      <td>First Record:</td>\\n'\n",
      "                     '      <td>2nd millennium BC</td>\\n'\n",
      "                     '    </tr>\\n'\n",
      "                     '    <tr>\\n'\n",
      "                     '      <th>8</th>\\n'\n",
      "                     '      <td>Recorded By:</td>\\n'\n",
      "                     '      <td>Egyptian astronomers</td>\\n'\n",
      "                     '    </tr>\\n'\n",
      "                     '  </tbody>\\n'\n",
      "                     '</table>',\n",
      " 'Mars_featured_image_url': 'https://www.jpl.nasa.gov/spaceimages/images/largesize/PIA18840_hires.jpg',\n",
      " 'Mars_news_body': 'Wind can be crucial to clearing dust from spacecraft solar '\n",
      "                   \"panels on Mars. With InSight's meteorological sensors, \"\n",
      "                   'scientists get their first measurements of wind and dust '\n",
      "                   'interacting \"live\" on the Martian surface.  ',\n",
      " 'Mars_news_title': 'For InSight, Dust Cleanings Will Yield New Science',\n",
      " 'Mars_tweet_weather': 'InSight sol 156 (2019-05-05) low -99.2ºC (-146.6ºF) '\n",
      "                       'high -18.1ºC (-0.6ºF)\\n'\n",
      "                       'winds from the SW at 4.7 m/s (10.5 mph) gusting to '\n",
      "                       '13.8 m/s (30.8 mph)\\n'\n",
      "                       'pressure at 7.40 hPapic.twitter.com/FlGDeYg8hi'}\n"
     ]
    }
   ],
   "source": [
    "pprint(mars_info_dict)"
   ]
  },
  {
   "cell_type": "code",
   "execution_count": 29,
   "metadata": {},
   "outputs": [],
   "source": [
    "#Generate date time and store in the dictionary.\n",
    "cur_datetime = datetime.datetime.utcnow()\n",
    "mars_info_dict[\"Date_time\"] = cur_datetime"
   ]
  },
  {
   "cell_type": "code",
   "execution_count": 30,
   "metadata": {},
   "outputs": [
    {
     "name": "stdout",
     "output_type": "stream",
     "text": [
      "{'Date_time': datetime.datetime(2019, 5, 7, 0, 39, 14, 116584),\n",
      " 'Hemisphere_image_urls': [{'img_url': 'http://astropedia.astrogeology.usgs.gov/download/Mars/Viking/cerberus_enhanced.tif/full.jpg',\n",
      "                            'title': 'Cerberus Hemisphere Enhanced'},\n",
      "                           {'img_url': 'http://astropedia.astrogeology.usgs.gov/download/Mars/Viking/schiaparelli_enhanced.tif/full.jpg',\n",
      "                            'title': 'Schiaparelli Hemisphere Enhanced'},\n",
      "                           {'img_url': 'http://astropedia.astrogeology.usgs.gov/download/Mars/Viking/syrtis_major_enhanced.tif/full.jpg',\n",
      "                            'title': 'Syrtis Major Hemisphere Enhanced'},\n",
      "                           {'img_url': 'http://astropedia.astrogeology.usgs.gov/download/Mars/Viking/valles_marineris_enhanced.tif/full.jpg',\n",
      "                            'title': 'Valles Marineris Hemisphere Enhanced'}],\n",
      " 'Mars_facts_table': '<table border=\"1\" class=\"dataframe mars_facts table '\n",
      "                     'table-striped\">\\n'\n",
      "                     '  <thead>\\n'\n",
      "                     '    <tr style=\"text-align: right;\">\\n'\n",
      "                     '      <th></th>\\n'\n",
      "                     '      <th>Mars_Facts</th>\\n'\n",
      "                     '      <th>Values</th>\\n'\n",
      "                     '    </tr>\\n'\n",
      "                     '  </thead>\\n'\n",
      "                     '  <tbody>\\n'\n",
      "                     '    <tr>\\n'\n",
      "                     '      <th>0</th>\\n'\n",
      "                     '      <td>Equatorial Diameter:</td>\\n'\n",
      "                     '      <td>6,792 km</td>\\n'\n",
      "                     '    </tr>\\n'\n",
      "                     '    <tr>\\n'\n",
      "                     '      <th>1</th>\\n'\n",
      "                     '      <td>Polar Diameter:</td>\\n'\n",
      "                     '      <td>6,752 km</td>\\n'\n",
      "                     '    </tr>\\n'\n",
      "                     '    <tr>\\n'\n",
      "                     '      <th>2</th>\\n'\n",
      "                     '      <td>Mass:</td>\\n'\n",
      "                     '      <td>6.42 x 10^23 kg (10.7% Earth)</td>\\n'\n",
      "                     '    </tr>\\n'\n",
      "                     '    <tr>\\n'\n",
      "                     '      <th>3</th>\\n'\n",
      "                     '      <td>Moons:</td>\\n'\n",
      "                     '      <td>2 (Phobos &amp; Deimos)</td>\\n'\n",
      "                     '    </tr>\\n'\n",
      "                     '    <tr>\\n'\n",
      "                     '      <th>4</th>\\n'\n",
      "                     '      <td>Orbit Distance:</td>\\n'\n",
      "                     '      <td>227,943,824 km (1.52 AU)</td>\\n'\n",
      "                     '    </tr>\\n'\n",
      "                     '    <tr>\\n'\n",
      "                     '      <th>5</th>\\n'\n",
      "                     '      <td>Orbit Period:</td>\\n'\n",
      "                     '      <td>687 days (1.9 years)</td>\\n'\n",
      "                     '    </tr>\\n'\n",
      "                     '    <tr>\\n'\n",
      "                     '      <th>6</th>\\n'\n",
      "                     '      <td>Surface Temperature:</td>\\n'\n",
      "                     '      <td>-153 to 20 °C</td>\\n'\n",
      "                     '    </tr>\\n'\n",
      "                     '    <tr>\\n'\n",
      "                     '      <th>7</th>\\n'\n",
      "                     '      <td>First Record:</td>\\n'\n",
      "                     '      <td>2nd millennium BC</td>\\n'\n",
      "                     '    </tr>\\n'\n",
      "                     '    <tr>\\n'\n",
      "                     '      <th>8</th>\\n'\n",
      "                     '      <td>Recorded By:</td>\\n'\n",
      "                     '      <td>Egyptian astronomers</td>\\n'\n",
      "                     '    </tr>\\n'\n",
      "                     '  </tbody>\\n'\n",
      "                     '</table>',\n",
      " 'Mars_featured_image_url': 'https://www.jpl.nasa.gov/spaceimages/images/largesize/PIA18840_hires.jpg',\n",
      " 'Mars_news_body': 'Wind can be crucial to clearing dust from spacecraft solar '\n",
      "                   \"panels on Mars. With InSight's meteorological sensors, \"\n",
      "                   'scientists get their first measurements of wind and dust '\n",
      "                   'interacting \"live\" on the Martian surface.  ',\n",
      " 'Mars_news_title': 'For InSight, Dust Cleanings Will Yield New Science',\n",
      " 'Mars_tweet_weather': 'InSight sol 156 (2019-05-05) low -99.2ºC (-146.6ºF) '\n",
      "                       'high -18.1ºC (-0.6ºF)\\n'\n",
      "                       'winds from the SW at 4.7 m/s (10.5 mph) gusting to '\n",
      "                       '13.8 m/s (30.8 mph)\\n'\n",
      "                       'pressure at 7.40 hPapic.twitter.com/FlGDeYg8hi'}\n"
     ]
    }
   ],
   "source": [
    "pprint(mars_info_dict)"
   ]
  },
  {
   "cell_type": "code",
   "execution_count": null,
   "metadata": {},
   "outputs": [],
   "source": []
  }
 ],
 "metadata": {
  "kernelspec": {
   "display_name": "Python 3",
   "language": "python",
   "name": "python3"
  },
  "language_info": {
   "codemirror_mode": {
    "name": "ipython",
    "version": 3
   },
   "file_extension": ".py",
   "mimetype": "text/x-python",
   "name": "python",
   "nbconvert_exporter": "python",
   "pygments_lexer": "ipython3",
   "version": "3.7.1"
  }
 },
 "nbformat": 4,
 "nbformat_minor": 2
}
